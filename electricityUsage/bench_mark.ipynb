{
 "cells": [
  {
   "cell_type": "code",
   "execution_count": 1,
   "metadata": {},
   "outputs": [],
   "source": [
    "# basic i/o\n",
    "import os\n",
    "\n",
    "# data structures\n",
    "import numpy as np\n",
    "import pandas as pd\n",
    "\n",
    "# cleaning data\n",
    "from scipy import sparse\n",
    "from sklearn.preprocessing import MinMaxScaler\n",
    "from sklearn.impute import SimpleImputer\n",
    "\n",
    "# regressors\n",
    "from sklearn.ensemble import RandomForestRegressor\n",
    "\n",
    "# getting rid of annoying warnings.\n",
    "import warnings\n",
    "warnings.filterwarnings('ignore')"
   ]
  },
  {
   "cell_type": "code",
   "execution_count": 2,
   "metadata": {},
   "outputs": [],
   "source": [
    "FILE_NAME = 'energy.csv'\n",
    "\n",
    "def load_data(file_name=FILE_NAME, ratio=0.9):\n",
    "    data = pd.read_csv(file_name).sample(frac=1)\n",
    "    \n",
    "    slice_ind = int(data.shape[0]*ratio)\n",
    "    \n",
    "    return data.iloc[0:slice_ind], data.iloc[slice_ind:]"
   ]
  },
  {
   "cell_type": "code",
   "execution_count": 3,
   "metadata": {},
   "outputs": [],
   "source": [
    "_data = load_data(ratio=1)[0]\n",
    "COST_COLS = _data.iloc[:,644:671].columns\n",
    "VAR_COLS = _data.columns.difference(COST_COLS)"
   ]
  },
  {
   "cell_type": "code",
   "execution_count": 4,
   "metadata": {},
   "outputs": [
    {
     "data": {
      "text/plain": [
       "(5686, 759)"
      ]
     },
     "execution_count": 4,
     "metadata": {},
     "output_type": "execute_result"
    }
   ],
   "source": [
    "_data.shape"
   ]
  },
  {
   "cell_type": "code",
   "execution_count": 5,
   "metadata": {
    "scrolled": true
   },
   "outputs": [
    {
     "name": "stdout",
     "output_type": "stream",
     "text": [
      "<class 'pandas.core.frame.DataFrame'>\n",
      "Int64Index: 5686 entries, 4723 to 5651\n",
      "Data columns (total 27 columns):\n",
      "DOLLAREL        5686 non-null float64\n",
      "DOLELSPH        5686 non-null float64\n",
      "DOLELCOL        5686 non-null float64\n",
      "DOLELWTH        5686 non-null float64\n",
      "DOLELRFG        5686 non-null float64\n",
      "DOLELRFG1       5686 non-null float64\n",
      "DOLELRFG2       5686 non-null float64\n",
      "DOLELFRZ        5686 non-null float64\n",
      "DOLELCOK        5686 non-null float64\n",
      "DOLELMICRO      5686 non-null float64\n",
      "DOLELCW         5686 non-null float64\n",
      "DOLELCDR        5686 non-null float64\n",
      "DOLELDWH        5686 non-null float64\n",
      "DOLELLGT        5686 non-null float64\n",
      "DOLELTVREL      5686 non-null float64\n",
      "DOLELTV1        5686 non-null float64\n",
      "DOLELTV2        5686 non-null float64\n",
      "DOLELAHUHEAT    5686 non-null float64\n",
      "DOLELAHUCOL     5686 non-null float64\n",
      "DOLELEVAPCOL    5686 non-null float64\n",
      "DOLELCFAN       5686 non-null float64\n",
      "DOLELDHUM       5686 non-null float64\n",
      "DOLELHUM        5686 non-null float64\n",
      "DOLELPLPMP      5686 non-null float64\n",
      "DOLELHTBPMP     5686 non-null float64\n",
      "DOLELHTBHEAT    5686 non-null float64\n",
      "DOLELNEC        5686 non-null float64\n",
      "dtypes: float64(27)\n",
      "memory usage: 1.2 MB\n"
     ]
    }
   ],
   "source": [
    "_data[COST_COLS].info()"
   ]
  },
  {
   "cell_type": "code",
   "execution_count": 6,
   "metadata": {},
   "outputs": [
    {
     "name": "stdout",
     "output_type": "stream",
     "text": [
      "<class 'pandas.core.frame.DataFrame'>\n",
      "Int64Index: 5686 entries, 4723 to 5651\n",
      "Columns: 732 entries, ADQINSUL to ZYEARMADERANGE\n",
      "dtypes: float64(235), int64(493), object(4)\n",
      "memory usage: 31.8+ MB\n"
     ]
    }
   ],
   "source": [
    "_data[VAR_COLS].info()"
   ]
  },
  {
   "cell_type": "code",
   "execution_count": 7,
   "metadata": {},
   "outputs": [],
   "source": [
    "class Preprocessor(object):\n",
    "    def __init__(self, \n",
    "                 cost_cols=COST_COLS,\n",
    "                 var_cols=VAR_COLS,\n",
    "                 imputer=SimpleImputer(), \n",
    "                 normalizer=MinMaxScaler()):\n",
    "        \n",
    "        self.var_cols = VAR_COLS\n",
    "        self.cost_cols = COST_COLS\n",
    "        \n",
    "        self.imputer = imputer\n",
    "        self.normalizer = normalizer\n",
    "        self.num_inds = [] # does not include self.cost_cols\n",
    "        self.cat_inds = []\n",
    "        \n",
    "    # separate_num_and_cat: self, pd.DataFrame --> void\n",
    "    # X = data[self.var_cols]\n",
    "    def seperate_num_and_cat(self, X):\n",
    "        # numerical data type\n",
    "        cont_type = [int, np.int64, float, np.float64]\n",
    "\n",
    "        for col in X.columns:\n",
    "            if X[col].dtype in cont_type:\n",
    "                self.num_inds.append(col)\n",
    "                #data[col].to_numeric()\n",
    "            else:\n",
    "                self.cat_inds.append(col)\n",
    "                \n",
    "        self.num_inds.pop(0) # pop DOEID\n",
    "                \n",
    "    # indata includes all columns\n",
    "    # indata is not consumed, a copy is made\n",
    "    def fit(self, indata):\n",
    "        data = indata.copy()\n",
    "        X = data[self.var_cols]\n",
    "        del X['DOEID']\n",
    "        \n",
    "        self.seperate_num_and_cat(X)\n",
    "        \n",
    "        X[self.num_inds] = self.imputer.fit_transform(X[self.num_inds])\n",
    "        X[self.num_inds] = self.normalizer.fit(X[self.num_inds])\n",
    "    \n",
    "    # transform: self, pd.DataFrame --> pd.DataFrame\n",
    "    # X includes all columns\n",
    "    # X is consumed and modified\n",
    "    # take log of SalePrice\n",
    "    def transform(self, X):\n",
    "        del X['DOEID']\n",
    "        \n",
    "        X[self.num_inds] = self.imputer.transform(X[self.num_inds])\n",
    "        X[self.num_inds] = self.normalizer.transform(X[self.num_inds])\n",
    "        \n",
    "        return X\n",
    "    \n",
    "    # fit_transform: self, pd.DataFrame --> pd.DataFrame\n",
    "    # data includes all columns\n",
    "    # data is consumed and modified\n",
    "    # take log of SalePrice\n",
    "    def fit_transform(self, X):\n",
    "        del X['DOEID']\n",
    "        \n",
    "        self.seperate_num_and_cat(X)\n",
    "        \n",
    "        X[self.num_inds] = self.imputer.fit_transform(X[self.num_inds])\n",
    "        X[self.num_inds] = self.normalizer.fit_transform(X[self.num_inds])\n",
    "        \n",
    "        return X  \n"
   ]
  },
  {
   "cell_type": "code",
   "execution_count": 8,
   "metadata": {},
   "outputs": [],
   "source": [
    "train, test = load_data(ratio=0.9)\n",
    "preproc = Preprocessor()\n",
    "\n",
    "train = preproc.fit_transform(train)\n",
    "test = preproc.transform(test)\n",
    "\n",
    "X_train = train[preproc.num_inds]\n",
    "y_train = train[preproc.cost_cols]\n",
    "\n",
    "X_test = test[preproc.num_inds]\n",
    "y_test = test[preproc.cost_cols]"
   ]
  },
  {
   "cell_type": "code",
   "execution_count": 53,
   "metadata": {},
   "outputs": [],
   "source": [
    "rg = RandomForestRegressor(n_estimators=100)\n",
    "\n",
    "rg.fit(X_train, y_train)\n",
    "ypred = rg.predict(X_test)"
   ]
  },
  {
   "cell_type": "code",
   "execution_count": 54,
   "metadata": {},
   "outputs": [],
   "source": [
    "# error has unit in cents\n",
    "def rms(a,b):\n",
    "    return np.sqrt(np.sum((a-b) ** 2, axis=0)/a.shape[0])"
   ]
  },
  {
   "cell_type": "code",
   "execution_count": 55,
   "metadata": {},
   "outputs": [],
   "source": [
    "e = rms(y_test.values, ypred)"
   ]
  },
  {
   "cell_type": "code",
   "execution_count": 56,
   "metadata": {},
   "outputs": [
    {
     "data": {
      "text/plain": [
       "DOLLAREL        0.231737\n",
       "DOLELSPH        0.839993\n",
       "DOLELCOL        0.551527\n",
       "DOLELWTH        0.703298\n",
       "DOLELRFG        0.337231\n",
       "DOLELRFG1       0.239746\n",
       "DOLELRFG2       0.719688\n",
       "DOLELFRZ        0.782396\n",
       "DOLELCOK        1.087714\n",
       "DOLELMICRO      0.911249\n",
       "DOLELCW         0.686710\n",
       "DOLELCDR        0.801651\n",
       "DOLELDWH        1.162136\n",
       "DOLELLGT        0.937196\n",
       "DOLELTVREL      0.639558\n",
       "DOLELTV1        0.589680\n",
       "DOLELTV2        0.966701\n",
       "DOLELAHUHEAT    1.088693\n",
       "DOLELAHUCOL     0.710305\n",
       "DOLELEVAPCOL    3.631569\n",
       "DOLELCFAN       0.801465\n",
       "DOLELDHUM       2.651550\n",
       "DOLELHUM        1.510667\n",
       "DOLELPLPMP      4.609275\n",
       "DOLELHTBPMP     3.448097\n",
       "DOLELHTBHEAT    4.290489\n",
       "DOLELNEC        1.106994\n",
       "dtype: float64"
      ]
     },
     "execution_count": 56,
     "metadata": {},
     "output_type": "execute_result"
    }
   ],
   "source": [
    "e/(y_test).mean()"
   ]
  },
  {
   "cell_type": "code",
   "execution_count": 57,
   "metadata": {},
   "outputs": [
    {
     "data": {
      "text/plain": [
       "array([0.0388176 , 0.05097551, 0.04122724, 0.05023878, 0.05567021,\n",
       "       0.05681752, 0.04712786, 0.06156616, 0.06813193, 0.07907828,\n",
       "       0.0645404 , 0.06188827, 0.08055816, 0.06089894, 0.0564688 ,\n",
       "       0.05616455, 0.04787119, 0.04309419, 0.02837841, 0.04111706,\n",
       "       0.0733898 , 0.04845283, 0.05816129, 0.03998211, 0.05612831,\n",
       "       0.05903695, 0.03294202])"
      ]
     },
     "execution_count": 57,
     "metadata": {},
     "output_type": "execute_result"
    }
   ],
   "source": [
    "e"
   ]
  },
  {
   "cell_type": "code",
   "execution_count": 58,
   "metadata": {},
   "outputs": [
    {
     "data": {
      "text/plain": [
       "DOLLAREL        0.167507\n",
       "DOLELSPH        0.060686\n",
       "DOLELCOL        0.074751\n",
       "DOLELWTH        0.071433\n",
       "DOLELRFG        0.165080\n",
       "DOLELRFG1       0.236990\n",
       "DOLELRFG2       0.065484\n",
       "DOLELFRZ        0.078689\n",
       "DOLELCOK        0.062638\n",
       "DOLELMICRO      0.086780\n",
       "DOLELCW         0.093985\n",
       "DOLELCDR        0.077201\n",
       "DOLELDWH        0.069319\n",
       "DOLELLGT        0.064980\n",
       "DOLELTVREL      0.088294\n",
       "DOLELTV1        0.095246\n",
       "DOLELTV2        0.049520\n",
       "DOLELAHUHEAT    0.039583\n",
       "DOLELAHUCOL     0.039952\n",
       "DOLELEVAPCOL    0.011322\n",
       "DOLELCFAN       0.091570\n",
       "DOLELDHUM       0.018273\n",
       "DOLELHUM        0.038500\n",
       "DOLELPLPMP      0.008674\n",
       "DOLELHTBPMP     0.016278\n",
       "DOLELHTBHEAT    0.013760\n",
       "DOLELNEC        0.029758\n",
       "dtype: float64"
      ]
     },
     "execution_count": 58,
     "metadata": {},
     "output_type": "execute_result"
    }
   ],
   "source": [
    "(y_test).mean()"
   ]
  },
  {
   "cell_type": "code",
   "execution_count": null,
   "metadata": {},
   "outputs": [],
   "source": []
  }
 ],
 "metadata": {
  "kernelspec": {
   "display_name": "Python 3",
   "language": "python",
   "name": "python3"
  },
  "language_info": {
   "codemirror_mode": {
    "name": "ipython",
    "version": 3
   },
   "file_extension": ".py",
   "mimetype": "text/x-python",
   "name": "python",
   "nbconvert_exporter": "python",
   "pygments_lexer": "ipython3",
   "version": "3.6.5"
  }
 },
 "nbformat": 4,
 "nbformat_minor": 2
}
