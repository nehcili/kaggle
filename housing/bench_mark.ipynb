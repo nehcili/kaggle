{
 "cells": [
  {
   "cell_type": "markdown",
   "metadata": {},
   "source": [
    "# Bench Mark Setting"
   ]
  },
  {
   "cell_type": "markdown",
   "metadata": {},
   "source": [
    "## Initial Bench mark: 0.15323"
   ]
  },
  {
   "cell_type": "markdown",
   "metadata": {},
   "source": [
    "## 1. Loading the data"
   ]
  },
  {
   "cell_type": "code",
   "execution_count": 1,
   "metadata": {},
   "outputs": [],
   "source": [
    "# Load the data\n",
    "# data is first downloweded into DATA_PATH from \n",
    "# http://archive.ics.uci.edu/ml/machine-learning-databases/00267/data_banknote_authentication.txt\n",
    "import os\n",
    "import pandas as pd\n",
    "import numpy as np\n",
    "from sklearn.ensemble import RandomForestRegressor\n",
    "from sklearn.metrics import mean_squared_error\n",
    "\n",
    "DATA_PATH = 'data'\n",
    "FILE_NAME = 'train.csv'\n",
    "\n",
    "def load_data(data_path=DATA_PATH, file_name=FILE_NAME):\n",
    "    # load everything into data\n",
    "    file_path = os.path.join(data_path, file_name)\n",
    "    data = pd.read_csv(file_path)\n",
    "    \n",
    "    return data\n",
    "\n",
    "# select all numerical columns only\n",
    "def num_col(data):\n",
    "    \n",
    "    cols = []\n",
    "    for col in data.columns:\n",
    "        if data[col].dtype in [int, float, np.int64, np.float64]:\n",
    "            cols.append(col)\n",
    "    \n",
    "    return data[cols]\n",
    "\n",
    "def fit_nan(data):\n",
    "    from sklearn.impute import SimpleImputer\n",
    "    \n",
    "    imp = SimpleImputer(missing_values=np.nan, strategy='mean')\n",
    "    return imp.fit_transform(data)\n",
    "    \n",
    "        \n",
    "# splits data in train_data, train_label, test_data, test_label\n",
    "def split_data(data, ratio=0.9):\n",
    "    X = data[:,:-1]\n",
    "    y = data[:,-1]\n",
    "    \n",
    "    size = int(X.shape[0] * ratio)\n",
    "    \n",
    "    return X[:size], y[:size], X[size:], y[size:]\n",
    "\n",
    "def pipe_num_data(data_path=DATA_PATH, file_name=FILE_NAME, ratio=0.9):\n",
    "    return split_data(fit_nan(num_col(load_data(data_path=data_path, file_name=file_name))), ratio)\n",
    "\n",
    "train_data, train_label, test_data, test_label = pipe_num_data()"
   ]
  },
  {
   "cell_type": "markdown",
   "metadata": {},
   "source": [
    "## 2. Random Forest Bench Mark"
   ]
  },
  {
   "cell_type": "code",
   "execution_count": 2,
   "metadata": {},
   "outputs": [
    {
     "name": "stdout",
     "output_type": "stream",
     "text": [
      "Random Forest log mean root-mean-squared error is: 0.1569721014205277\n"
     ]
    }
   ],
   "source": [
    "# random forest bench mark\n",
    "def bench_mark():    \n",
    "    train_data, train_label, test_data, test_label = pipe_num_data()\n",
    "    rf = RandomForestRegressor(n_estimators=500)\n",
    "    rf.fit(train_data, train_label)\n",
    "    \n",
    "    ypred = rf.predict(test_data)\n",
    "    \n",
    "    return mean_absolute_error(ypred, test_label)\n",
    "rf = RandomForestRegressor(n_estimators=300)\n",
    "rf.fit(train_data, train_label)\n",
    "    \n",
    "ypred = rf.predict(test_data)\n",
    "e = np.sqrt(mean_squared_error(np.log(ypred), np.log(test_label)))\n",
    "print(\"Random Forest log mean root-mean-squared error is:\", e)"
   ]
  },
  {
   "cell_type": "markdown",
   "metadata": {},
   "source": [
    "## 3. Bagged Linear Regression"
   ]
  },
  {
   "cell_type": "code",
   "execution_count": 3,
   "metadata": {},
   "outputs": [
    {
     "name": "stdout",
     "output_type": "stream",
     "text": [
      "Random Forest log mean root-mean-squared error is: 0.17152811209670601\n"
     ]
    }
   ],
   "source": [
    "from sklearn.linear_model import LinearRegression\n",
    "from sklearn.ensemble import BaggingRegressor\n",
    "\n",
    "rg = LinearRegression()\n",
    "lg = BaggingRegressor(rg, n_estimators=500)\n",
    "\n",
    "lg.fit(train_data, train_label)\n",
    "ypred = lg.predict(test_data)\n",
    "e = np.sqrt(mean_squared_error(np.log(ypred), np.log(test_label)))\n",
    "print(\"Random Forest log mean root-mean-squared error is:\", e)"
   ]
  },
  {
   "cell_type": "markdown",
   "metadata": {},
   "source": [
    "## 4. Submittion"
   ]
  },
  {
   "cell_type": "code",
   "execution_count": 4,
   "metadata": {},
   "outputs": [],
   "source": [
    "train_data, train_label, test_data, test_label = pipe_num_data(ratio=1.0)\n",
    "train_data, train_label, test_data, test_label = pipe_num_data()\n",
    "rf = RandomForestRegressor(n_estimators=500)\n",
    "rf.fit(train_data, train_label)\n",
    "\n",
    "submit_data = fit_nan(num_col(load_data(data_path=DATA_PATH, file_name='test.csv')))\n",
    "length = submit_data.shape[0]\n",
    "\n",
    "pred = rf.predict(submit_data)"
   ]
  },
  {
   "cell_type": "code",
   "execution_count": 5,
   "metadata": {},
   "outputs": [],
   "source": [
    "submit = pd.DataFrame({'Id': np.arange(1461, 1461+length), 'SalePrice' : pred})\n",
    "submit.to_csv('01122019.csv', index=False)"
   ]
  },
  {
   "cell_type": "markdown",
   "metadata": {},
   "source": [
    "## 5 Kaggle Result\n",
    "Our result is 0.15323"
   ]
  }
 ],
 "metadata": {
  "kernelspec": {
   "display_name": "Python 3",
   "language": "python",
   "name": "python3"
  },
  "language_info": {
   "codemirror_mode": {
    "name": "ipython",
    "version": 3
   },
   "file_extension": ".py",
   "mimetype": "text/x-python",
   "name": "python",
   "nbconvert_exporter": "python",
   "pygments_lexer": "ipython3",
   "version": "3.6.5"
  }
 },
 "nbformat": 4,
 "nbformat_minor": 2
}
